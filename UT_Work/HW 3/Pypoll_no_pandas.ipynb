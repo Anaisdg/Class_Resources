{
 "cells": [
  {
   "cell_type": "code",
   "execution_count": 69,
   "metadata": {
    "collapsed": true
   },
   "outputs": [],
   "source": [
    "import os \n",
    "import csv"
   ]
  },
  {
   "cell_type": "code",
   "execution_count": 70,
   "metadata": {},
   "outputs": [
    {
     "name": "stdout",
     "output_type": "stream",
     "text": [
      " The Winner Is:                  Khan\n",
      " The Candidates Are:             ['Khan', \"O'Tooley\", 'Correy', 'Li']\n",
      " Respective Percent Won:         [68, 2, 25, 6]\n",
      " Respective Votes Per Candidate: [36, 1, 13, 3]\n"
     ]
    }
   ],
   "source": [
    "file_to_open = \"election_data_2 copy.csv\"\n",
    "with open(file_to_open, 'r') as election_data:\n",
    "    reader = csv.DictReader(election_data)\n",
    "    contents= set()\n",
    "    [contents.add(x[\"Candidate\"]) for x in reader]\n",
    "    list_contents = list(contents)\n",
    "    #votes = []\n",
    "    #[votes.append(y[\"Candidate\"]) for y in reader]\n",
    "    #total_votes = len(votes)\n",
    "    #print(votes)\n",
    "  \n",
    "    \n",
    "with open(file_to_open, 'r') as election_data:\n",
    "    content = election_data.read()\n",
    "    ind_votes = []\n",
    "    total_votes=0 \n",
    "    for i in range(0, len(list_contents)):\n",
    "        count = content.count(list_contents[i])\n",
    "        total_votes = total_votes + count\n",
    "        ind_votes.append(count)\n",
    "    percent_votes=[]\n",
    "    for x in range(0, len(ind_votes)):\n",
    "        percent = round((ind_votes[x]/total_votes)*100)\n",
    "        percent_votes.append(percent)\n",
    "        \n",
    "    print(f' The Winner Is:                  {list_contents[0]}')\n",
    "    print(f' The Candidates Are:             {list_contents}')\n",
    "    print(f' Respective Percent Won:         {percent_votes}')\n",
    "    print(f' Respective Votes Per Candidate: {ind_votes}')\n",
    "\n",
    "   \n",
    " \n",
    "    \n",
    "   \n",
    "   \n",
    "  "
   ]
  },
  {
   "cell_type": "code",
   "execution_count": null,
   "metadata": {
    "collapsed": true
   },
   "outputs": [],
   "source": []
  }
 ],
 "metadata": {
  "kernelspec": {
   "display_name": "Python 3",
   "language": "python",
   "name": "python3"
  },
  "language_info": {
   "codemirror_mode": {
    "name": "ipython",
    "version": 3
   },
   "file_extension": ".py",
   "mimetype": "text/x-python",
   "name": "python",
   "nbconvert_exporter": "python",
   "pygments_lexer": "ipython3",
   "version": "3.6.2"
  }
 },
 "nbformat": 4,
 "nbformat_minor": 2
}
