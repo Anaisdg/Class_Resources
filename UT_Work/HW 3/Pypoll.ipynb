{
 "cells": [
  {
   "cell_type": "code",
   "execution_count": 72,
   "metadata": {
    "collapsed": true
   },
   "outputs": [],
   "source": [
    "import pandas as pd "
   ]
  },
  {
   "cell_type": "code",
   "execution_count": 73,
   "metadata": {
    "collapsed": true
   },
   "outputs": [],
   "source": [
    "file_one = 'election_data_2.csv'"
   ]
  },
  {
   "cell_type": "code",
   "execution_count": 74,
   "metadata": {},
   "outputs": [],
   "source": [
    "file_one_df = pd.read_csv(file_one, encoding = 'UTF-8')\n",
    "#file_one_df.head()"
   ]
  },
  {
   "cell_type": "code",
   "execution_count": 75,
   "metadata": {
    "collapsed": true
   },
   "outputs": [],
   "source": [
    "# Check to see if data is clean \n",
    "counts = file_one_df.count()"
   ]
  },
  {
   "cell_type": "code",
   "execution_count": 76,
   "metadata": {},
   "outputs": [],
   "source": [
    "canditates = file_one_df['Candidate'].unique()\n",
    "#canditates"
   ]
  },
  {
   "cell_type": "code",
   "execution_count": 77,
   "metadata": {},
   "outputs": [],
   "source": [
    "votes_per_candidate = file_one_df['Candidate'].value_counts()\n",
    "#votes_per_candidate"
   ]
  },
  {
   "cell_type": "code",
   "execution_count": 78,
   "metadata": {},
   "outputs": [],
   "source": [
    "winning_candidates = file_one_df['Candidate'].value_counts().index.tolist()\n",
    "#winning_candidates"
   ]
  },
  {
   "cell_type": "code",
   "execution_count": 79,
   "metadata": {},
   "outputs": [],
   "source": [
    "total_votes = counts.get_value(0)\n",
    "#total_votes "
   ]
  },
  {
   "cell_type": "code",
   "execution_count": 80,
   "metadata": {},
   "outputs": [],
   "source": [
    "percent_first = (votes_per_candidate.get_value(0)/total_votes)*100\n",
    "first = round(percent_first, 2)\n",
    "#first"
   ]
  },
  {
   "cell_type": "code",
   "execution_count": 81,
   "metadata": {},
   "outputs": [],
   "source": [
    "percent_second = (votes_per_candidate.get_value(1)/total_votes)*100\n",
    "second = round(percent_second, 2)\n",
    "#second"
   ]
  },
  {
   "cell_type": "code",
   "execution_count": 82,
   "metadata": {},
   "outputs": [],
   "source": [
    "percent_third = (votes_per_candidate.get_value(2)/total_votes)*100\n",
    "third = round(percent_third, 2)\n",
    "#third"
   ]
  },
  {
   "cell_type": "code",
   "execution_count": 83,
   "metadata": {},
   "outputs": [],
   "source": [
    "percent_forth = (votes_per_candidate.get_value(3)/total_votes)*100\n",
    "forth = round(percent_forth, 2)\n",
    "#forth"
   ]
  },
  {
   "cell_type": "code",
   "execution_count": 84,
   "metadata": {},
   "outputs": [],
   "source": [
    "percentages = [first, second, third, forth]\n",
    "#percentages"
   ]
  },
  {
   "cell_type": "code",
   "execution_count": 85,
   "metadata": {},
   "outputs": [],
   "source": [
    "winner = winning_candidates[0]\n",
    "#winner"
   ]
  },
  {
   "cell_type": "code",
   "execution_count": 86,
   "metadata": {},
   "outputs": [
    {
     "data": {
      "text/html": [
       "<div>\n",
       "<style>\n",
       "    .dataframe thead tr:only-child th {\n",
       "        text-align: right;\n",
       "    }\n",
       "\n",
       "    .dataframe thead th {\n",
       "        text-align: left;\n",
       "    }\n",
       "\n",
       "    .dataframe tbody tr th {\n",
       "        vertical-align: top;\n",
       "    }\n",
       "</style>\n",
       "<table border=\"1\" class=\"dataframe\">\n",
       "  <thead>\n",
       "    <tr style=\"text-align: right;\">\n",
       "      <th></th>\n",
       "      <th>Candidates</th>\n",
       "      <th>Percentage of Votes</th>\n",
       "      <th>Total Votes</th>\n",
       "      <th>Votes per Candidate</th>\n",
       "      <th>Winner</th>\n",
       "    </tr>\n",
       "  </thead>\n",
       "  <tbody>\n",
       "    <tr>\n",
       "      <th>Khan</th>\n",
       "      <td>Khan</td>\n",
       "      <td>63.0</td>\n",
       "      <td>3521001</td>\n",
       "      <td>2218231</td>\n",
       "      <td>Khan</td>\n",
       "    </tr>\n",
       "    <tr>\n",
       "      <th>Correy</th>\n",
       "      <td>Correy</td>\n",
       "      <td>20.0</td>\n",
       "      <td>3521001</td>\n",
       "      <td>704200</td>\n",
       "      <td>Khan</td>\n",
       "    </tr>\n",
       "    <tr>\n",
       "      <th>Li</th>\n",
       "      <td>Li</td>\n",
       "      <td>14.0</td>\n",
       "      <td>3521001</td>\n",
       "      <td>492940</td>\n",
       "      <td>Khan</td>\n",
       "    </tr>\n",
       "    <tr>\n",
       "      <th>O'Tooley</th>\n",
       "      <td>O'Tooley</td>\n",
       "      <td>3.0</td>\n",
       "      <td>3521001</td>\n",
       "      <td>105630</td>\n",
       "      <td>Khan</td>\n",
       "    </tr>\n",
       "  </tbody>\n",
       "</table>\n",
       "</div>"
      ],
      "text/plain": [
       "         Candidates  Percentage of Votes  Total Votes  Votes per Candidate  \\\n",
       "Khan           Khan                 63.0      3521001              2218231   \n",
       "Correy       Correy                 20.0      3521001               704200   \n",
       "Li               Li                 14.0      3521001               492940   \n",
       "O'Tooley   O'Tooley                  3.0      3521001               105630   \n",
       "\n",
       "         Winner  \n",
       "Khan       Khan  \n",
       "Correy     Khan  \n",
       "Li         Khan  \n",
       "O'Tooley   Khan  "
      ]
     },
     "execution_count": 86,
     "metadata": {},
     "output_type": "execute_result"
    }
   ],
   "source": [
    "final = pd.DataFrame({'Candidates' : winning_candidates,\n",
    "                      'Percentage of Votes' : percentages, \n",
    "                      \"Winner\" : winner,\n",
    "                      \"Total Votes\" : total_votes,\n",
    "                      \"Votes per Candidate\" : votes_per_candidate\n",
    "  })\n",
    "final"
   ]
  },
  {
   "cell_type": "code",
   "execution_count": null,
   "metadata": {
    "collapsed": true
   },
   "outputs": [],
   "source": []
  }
 ],
 "metadata": {
  "kernelspec": {
   "display_name": "Python 3",
   "language": "python",
   "name": "python3"
  },
  "language_info": {
   "codemirror_mode": {
    "name": "ipython",
    "version": 3
   },
   "file_extension": ".py",
   "mimetype": "text/x-python",
   "name": "python",
   "nbconvert_exporter": "python",
   "pygments_lexer": "ipython3",
   "version": "3.6.2"
  }
 },
 "nbformat": 4,
 "nbformat_minor": 2
}
