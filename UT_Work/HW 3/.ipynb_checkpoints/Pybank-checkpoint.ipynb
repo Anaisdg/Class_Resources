{
 "cells": [
  {
   "cell_type": "code",
   "execution_count": 1,
   "metadata": {
    "collapsed": true
   },
   "outputs": [],
   "source": [
    "import os \n",
    "import csv"
   ]
  },
  {
   "cell_type": "code",
   "execution_count": 10,
   "metadata": {},
   "outputs": [
    {
     "name": "stdout",
     "output_type": "stream",
     "text": [
      "Total Months: 41\n",
      "Total Revenue: $883934\n",
      "Average Revenue Change: $-6758.975\n",
      "List of Monthly Difference: [-268520, -1334477, 1012383, -8285, 76580, 325421, 146652, -410583, -238532, 272340, -602256, 214235, -260728, 898561, 181634, -826037, -673908, 515053, 568785, 447195, -582443, -1779747, 1760377, -292795, -595588, 769385, 229457, 269376, -1422701, 830596, 764803, -1056690, 329353, 138174, 643748, -538030, -590422, 736642, -1756602, 1837235]\n",
      "Greatest Increase in Revenue: $1837235\n",
      "Greatest Decrease in Revenue: $-1779747\n"
     ]
    }
   ],
   "source": [
    "file_to_load = \"budget_data_1.csv\"\n",
    "\n",
    "\n",
    "# Read the csv and convert it into a list of dictionaries\n",
    "with open(file_to_load) as revenue_data:\n",
    "    reader = csv.DictReader(revenue_data)\n",
    "    #total_months = sum(1 for row in reader)\n",
    "    revenue=[]\n",
    "    total=0\n",
    "    for row in reader:\n",
    "        revenue.append(int(row[\"Revenue\"]))\n",
    "        total_revenue = total + int(row[\"Revenue\"])\n",
    "    total_months =  len(revenue)\n",
    "    \n",
    "    count=0 \n",
    "    difference = []\n",
    "    for i in range(1,len(revenue)): \n",
    "        difference.append(revenue[i]-revenue[i-1])\n",
    "    \n",
    "    total  = sum(difference)\n",
    "    average = sum(difference) / len(difference)\n",
    "    max_rev = max(difference)\n",
    "    min_rev = min(difference)\n",
    "    \n",
    "    print(f'Total Months: {total_months}' )\n",
    "    print(f'Total Revenue: ${total_revenue}')\n",
    "    print(f'Average Revenue Change: ${average}')\n",
    "    print(f'List of Monthly Difference: {difference}')\n",
    "    print(f'Greatest Increase in Revenue: ${max_rev}')\n",
    "    print(f'Greatest Decrease in Revenue: ${min_rev}')\n",
    "\n",
    "        \n",
    "        \n",
    "   "
   ]
  },
  {
   "cell_type": "code",
   "execution_count": 70,
   "metadata": {
    "collapsed": true
   },
   "outputs": [],
   "source": []
  },
  {
   "cell_type": "code",
   "execution_count": null,
   "metadata": {
    "collapsed": true
   },
   "outputs": [],
   "source": []
  }
 ],
 "metadata": {
  "kernelspec": {
   "display_name": "Python 3",
   "language": "python",
   "name": "python3"
  },
  "language_info": {
   "codemirror_mode": {
    "name": "ipython",
    "version": 3
   },
   "file_extension": ".py",
   "mimetype": "text/x-python",
   "name": "python",
   "nbconvert_exporter": "python",
   "pygments_lexer": "ipython3",
   "version": "3.6.2"
  }
 },
 "nbformat": 4,
 "nbformat_minor": 2
}
