{
 "cells": [
  {
   "cell_type": "code",
   "execution_count": 1,
   "metadata": {
    "collapsed": true
   },
   "outputs": [],
   "source": [
    "import pandas as pd"
   ]
  },
  {
   "cell_type": "code",
   "execution_count": 2,
   "metadata": {
    "collapsed": true
   },
   "outputs": [],
   "source": [
    "file_one = \"employee_data1.csv\"\n",
    "file_two = \"employee_data2.csv\""
   ]
  },
  {
   "cell_type": "code",
   "execution_count": 3,
   "metadata": {
    "collapsed": true
   },
   "outputs": [],
   "source": [
    "file_one_df = pd.read_csv(file_one, encoding = \"UTF-8\")\n",
    "file_two_df = pd.read_csv(file_two, encoding = \"UTF-8\")\n",
    "#file_one_df.head()"
   ]
  },
  {
   "cell_type": "code",
   "execution_count": 4,
   "metadata": {
    "collapsed": true
   },
   "outputs": [],
   "source": [
    "#file_two_df.head()"
   ]
  },
  {
   "cell_type": "code",
   "execution_count": 5,
   "metadata": {
    "collapsed": true
   },
   "outputs": [],
   "source": [
    "# To ensure that data is clean\n",
    "#file_one_df.count()"
   ]
  },
  {
   "cell_type": "code",
   "execution_count": 6,
   "metadata": {
    "collapsed": true
   },
   "outputs": [],
   "source": [
    "# To ensure that data is clean\n",
    "#file_two_df.count()"
   ]
  },
  {
   "cell_type": "code",
   "execution_count": 7,
   "metadata": {
    "collapsed": true
   },
   "outputs": [],
   "source": [
    "# Create two new columns and split into first and last name \n",
    "file_one_df[['First Name', 'Last Name']] = file_one_df['Name'].str.split(expand=True)\n",
    "#file_one_df.head()"
   ]
  },
  {
   "cell_type": "code",
   "execution_count": 8,
   "metadata": {
    "collapsed": true
   },
   "outputs": [],
   "source": [
    "# Create two new columns and split 'Name' into first and last name \n",
    "file_two_df[['First Name', 'Last Name']] = file_two_df['Name'].str.split(expand=True)\n",
    "#file_two_df.head()"
   ]
  },
  {
   "cell_type": "code",
   "execution_count": 9,
   "metadata": {
    "collapsed": true
   },
   "outputs": [],
   "source": [
    "# Create three new columns and split 'SSN' by hyphen \n",
    "file_one_df[['First part of SSN', 'Middle part of SSN', 'Last part of SSN']] = file_one_df['SSN'].str.split(\"-\", expand=True)\n",
    "#file_one_df.head()"
   ]
  },
  {
   "cell_type": "code",
   "execution_count": 10,
   "metadata": {
    "collapsed": true
   },
   "outputs": [],
   "source": [
    "# Create three new columns and split 'SSN' by hyphen \n",
    "file_two_df[['First part of SSN', 'Middle part of SSN', 'Last part of SSN']] = file_one_df['SSN'].str.split(\"-\", expand=True)\n",
    "#file_two_df.head()"
   ]
  },
  {
   "cell_type": "code",
   "execution_count": 11,
   "metadata": {
    "scrolled": true
   },
   "outputs": [
    {
     "data": {
      "text/html": [
       "<div>\n",
       "<style>\n",
       "    .dataframe thead tr:only-child th {\n",
       "        text-align: right;\n",
       "    }\n",
       "\n",
       "    .dataframe thead th {\n",
       "        text-align: left;\n",
       "    }\n",
       "\n",
       "    .dataframe tbody tr th {\n",
       "        vertical-align: top;\n",
       "    }\n",
       "</style>\n",
       "<table border=\"1\" class=\"dataframe\">\n",
       "  <thead>\n",
       "    <tr style=\"text-align: right;\">\n",
       "      <th></th>\n",
       "      <th>Emp ID</th>\n",
       "      <th>Name</th>\n",
       "      <th>DOB</th>\n",
       "      <th>SSN</th>\n",
       "      <th>State</th>\n",
       "      <th>First Name</th>\n",
       "      <th>Last Name</th>\n",
       "      <th>First part of SSN</th>\n",
       "      <th>Middle part of SSN</th>\n",
       "      <th>Last part of SSN</th>\n",
       "    </tr>\n",
       "  </thead>\n",
       "  <tbody>\n",
       "    <tr>\n",
       "      <th>0</th>\n",
       "      <td>214</td>\n",
       "      <td>Sarah Simpson</td>\n",
       "      <td>1985-12-04</td>\n",
       "      <td>282-01-8166</td>\n",
       "      <td>Florida</td>\n",
       "      <td>Sarah</td>\n",
       "      <td>Simpson</td>\n",
       "      <td>282</td>\n",
       "      <td>01</td>\n",
       "      <td>***-**-8166</td>\n",
       "    </tr>\n",
       "    <tr>\n",
       "      <th>1</th>\n",
       "      <td>15</td>\n",
       "      <td>Samantha Lara</td>\n",
       "      <td>1993-09-08</td>\n",
       "      <td>848-80-7526</td>\n",
       "      <td>Colorado</td>\n",
       "      <td>Samantha</td>\n",
       "      <td>Lara</td>\n",
       "      <td>848</td>\n",
       "      <td>80</td>\n",
       "      <td>***-**-7526</td>\n",
       "    </tr>\n",
       "    <tr>\n",
       "      <th>2</th>\n",
       "      <td>411</td>\n",
       "      <td>Stacy Charles</td>\n",
       "      <td>1957-12-20</td>\n",
       "      <td>658-75-8526</td>\n",
       "      <td>Pennsylvania</td>\n",
       "      <td>Stacy</td>\n",
       "      <td>Charles</td>\n",
       "      <td>658</td>\n",
       "      <td>75</td>\n",
       "      <td>***-**-8526</td>\n",
       "    </tr>\n",
       "    <tr>\n",
       "      <th>3</th>\n",
       "      <td>166</td>\n",
       "      <td>Michelle Roy</td>\n",
       "      <td>1978-07-29</td>\n",
       "      <td>794-25-3944</td>\n",
       "      <td>Michigan</td>\n",
       "      <td>Michelle</td>\n",
       "      <td>Roy</td>\n",
       "      <td>794</td>\n",
       "      <td>25</td>\n",
       "      <td>***-**-3944</td>\n",
       "    </tr>\n",
       "    <tr>\n",
       "      <th>4</th>\n",
       "      <td>39</td>\n",
       "      <td>Joseph Rogers</td>\n",
       "      <td>1985-03-28</td>\n",
       "      <td>525-40-3515</td>\n",
       "      <td>Minnesota</td>\n",
       "      <td>Joseph</td>\n",
       "      <td>Rogers</td>\n",
       "      <td>525</td>\n",
       "      <td>40</td>\n",
       "      <td>***-**-3515</td>\n",
       "    </tr>\n",
       "  </tbody>\n",
       "</table>\n",
       "</div>"
      ],
      "text/plain": [
       "  Emp ID           Name         DOB          SSN         State First Name  \\\n",
       "0    214  Sarah Simpson  1985-12-04  282-01-8166       Florida      Sarah   \n",
       "1     15  Samantha Lara  1993-09-08  848-80-7526      Colorado   Samantha   \n",
       "2    411  Stacy Charles  1957-12-20  658-75-8526  Pennsylvania      Stacy   \n",
       "3    166   Michelle Roy  1978-07-29  794-25-3944      Michigan   Michelle   \n",
       "4     39  Joseph Rogers  1985-03-28  525-40-3515     Minnesota     Joseph   \n",
       "\n",
       "  Last Name First part of SSN Middle part of SSN Last part of SSN  \n",
       "0   Simpson               282                 01      ***-**-8166  \n",
       "1      Lara               848                 80      ***-**-7526  \n",
       "2   Charles               658                 75      ***-**-8526  \n",
       "3       Roy               794                 25      ***-**-3944  \n",
       "4    Rogers               525                 40      ***-**-3515  "
      ]
     },
     "execution_count": 11,
     "metadata": {},
     "output_type": "execute_result"
    }
   ],
   "source": [
    "file_one_df['Last part of SSN'] = '***-**-' + file_one_df['Last part of SSN'].astype(str)\n",
    "file_one_df.head()"
   ]
  },
  {
   "cell_type": "code",
   "execution_count": 12,
   "metadata": {
    "collapsed": true
   },
   "outputs": [],
   "source": [
    "file_two_df['Last part of SSN'] = '***-**-' + file_two_df['Last part of SSN'].astype(str)\n",
    "#file_two_df.head()"
   ]
  },
  {
   "cell_type": "code",
   "execution_count": 13,
   "metadata": {
    "collapsed": true
   },
   "outputs": [],
   "source": [
    "us_state_abbrev = {\n",
    "    'Alabama': 'AL',\n",
    "    'Alaska': 'AK',\n",
    "    'Arizona': 'AZ',\n",
    "    'Arkansas': 'AR',\n",
    "    'California': 'CA',\n",
    "    'Colorado': 'CO',\n",
    "    'Connecticut': 'CT',\n",
    "    'Delaware': 'DE',\n",
    "    'Florida': 'FL',\n",
    "    'Georgia': 'GA',\n",
    "    'Hawaii': 'HI',\n",
    "    'Idaho': 'ID',\n",
    "    'Illinois': 'IL',\n",
    "    'Indiana': 'IN',\n",
    "    'Iowa': 'IA',\n",
    "    'Kansas': 'KS',\n",
    "    'Kentucky': 'KY',\n",
    "    'Louisiana': 'LA',\n",
    "    'Maine': 'ME',\n",
    "    'Maryland': 'MD',\n",
    "    'Massachusetts': 'MA',\n",
    "    'Michigan': 'MI',\n",
    "    'Minnesota': 'MN',\n",
    "    'Mississippi': 'MS',\n",
    "    'Missouri': 'MO',\n",
    "    'Montana': 'MT',\n",
    "    'Nebraska': 'NE',\n",
    "    'Nevada': 'NV',\n",
    "    'New Hampshire': 'NH',\n",
    "    'New Jersey': 'NJ',\n",
    "    'New Mexico': 'NM',\n",
    "    'New York': 'NY',\n",
    "    'North Carolina': 'NC',\n",
    "    'North Dakota': 'ND',\n",
    "    'Ohio': 'OH',\n",
    "    'Oklahoma': 'OK',\n",
    "    'Oregon': 'OR',\n",
    "    'Pennsylvania': 'PA',\n",
    "    'Rhode Island': 'RI',\n",
    "    'South Carolina': 'SC',\n",
    "    'South Dakota': 'SD',\n",
    "    'Tennessee': 'TN',\n",
    "    'Texas': 'TX',\n",
    "    'Utah': 'UT',\n",
    "    'Vermont': 'VT',\n",
    "    'Virginia': 'VA',\n",
    "    'Washington': 'WA',\n",
    "    'West Virginia': 'WV',\n",
    "    'Wisconsin': 'WI',\n",
    "    'Wyoming': 'WY',\n",
    "}"
   ]
  },
  {
   "cell_type": "code",
   "execution_count": 14,
   "metadata": {},
   "outputs": [
    {
     "data": {
      "text/html": [
       "<div>\n",
       "<style>\n",
       "    .dataframe thead tr:only-child th {\n",
       "        text-align: right;\n",
       "    }\n",
       "\n",
       "    .dataframe thead th {\n",
       "        text-align: left;\n",
       "    }\n",
       "\n",
       "    .dataframe tbody tr th {\n",
       "        vertical-align: top;\n",
       "    }\n",
       "</style>\n",
       "<table border=\"1\" class=\"dataframe\">\n",
       "  <thead>\n",
       "    <tr style=\"text-align: right;\">\n",
       "      <th></th>\n",
       "      <th>Emp ID</th>\n",
       "      <th>Name</th>\n",
       "      <th>DOB</th>\n",
       "      <th>SSN</th>\n",
       "      <th>State</th>\n",
       "      <th>First Name</th>\n",
       "      <th>Last Name</th>\n",
       "      <th>First part of SSN</th>\n",
       "      <th>Middle part of SSN</th>\n",
       "      <th>Last part of SSN</th>\n",
       "    </tr>\n",
       "  </thead>\n",
       "  <tbody>\n",
       "    <tr>\n",
       "      <th>0</th>\n",
       "      <td>214</td>\n",
       "      <td>Sarah Simpson</td>\n",
       "      <td>1985-12-04</td>\n",
       "      <td>282-01-8166</td>\n",
       "      <td>FL</td>\n",
       "      <td>Sarah</td>\n",
       "      <td>Simpson</td>\n",
       "      <td>282</td>\n",
       "      <td>01</td>\n",
       "      <td>***-**-8166</td>\n",
       "    </tr>\n",
       "    <tr>\n",
       "      <th>1</th>\n",
       "      <td>15</td>\n",
       "      <td>Samantha Lara</td>\n",
       "      <td>1993-09-08</td>\n",
       "      <td>848-80-7526</td>\n",
       "      <td>CO</td>\n",
       "      <td>Samantha</td>\n",
       "      <td>Lara</td>\n",
       "      <td>848</td>\n",
       "      <td>80</td>\n",
       "      <td>***-**-7526</td>\n",
       "    </tr>\n",
       "    <tr>\n",
       "      <th>2</th>\n",
       "      <td>411</td>\n",
       "      <td>Stacy Charles</td>\n",
       "      <td>1957-12-20</td>\n",
       "      <td>658-75-8526</td>\n",
       "      <td>PA</td>\n",
       "      <td>Stacy</td>\n",
       "      <td>Charles</td>\n",
       "      <td>658</td>\n",
       "      <td>75</td>\n",
       "      <td>***-**-8526</td>\n",
       "    </tr>\n",
       "    <tr>\n",
       "      <th>3</th>\n",
       "      <td>166</td>\n",
       "      <td>Michelle Roy</td>\n",
       "      <td>1978-07-29</td>\n",
       "      <td>794-25-3944</td>\n",
       "      <td>MI</td>\n",
       "      <td>Michelle</td>\n",
       "      <td>Roy</td>\n",
       "      <td>794</td>\n",
       "      <td>25</td>\n",
       "      <td>***-**-3944</td>\n",
       "    </tr>\n",
       "    <tr>\n",
       "      <th>4</th>\n",
       "      <td>39</td>\n",
       "      <td>Joseph Rogers</td>\n",
       "      <td>1985-03-28</td>\n",
       "      <td>525-40-3515</td>\n",
       "      <td>MN</td>\n",
       "      <td>Joseph</td>\n",
       "      <td>Rogers</td>\n",
       "      <td>525</td>\n",
       "      <td>40</td>\n",
       "      <td>***-**-3515</td>\n",
       "    </tr>\n",
       "  </tbody>\n",
       "</table>\n",
       "</div>"
      ],
      "text/plain": [
       "  Emp ID           Name         DOB          SSN State First Name Last Name  \\\n",
       "0    214  Sarah Simpson  1985-12-04  282-01-8166    FL      Sarah   Simpson   \n",
       "1     15  Samantha Lara  1993-09-08  848-80-7526    CO   Samantha      Lara   \n",
       "2    411  Stacy Charles  1957-12-20  658-75-8526    PA      Stacy   Charles   \n",
       "3    166   Michelle Roy  1978-07-29  794-25-3944    MI   Michelle       Roy   \n",
       "4     39  Joseph Rogers  1985-03-28  525-40-3515    MN     Joseph    Rogers   \n",
       "\n",
       "  First part of SSN Middle part of SSN Last part of SSN  \n",
       "0               282                 01      ***-**-8166  \n",
       "1               848                 80      ***-**-7526  \n",
       "2               658                 75      ***-**-8526  \n",
       "3               794                 25      ***-**-3944  \n",
       "4               525                 40      ***-**-3515  "
      ]
     },
     "execution_count": 14,
     "metadata": {},
     "output_type": "execute_result"
    }
   ],
   "source": [
    "file_one_df['State'].replace(us_state_abbrev, inplace = True)\n",
    "file_one_df.head()"
   ]
  },
  {
   "cell_type": "code",
   "execution_count": 15,
   "metadata": {
    "collapsed": true
   },
   "outputs": [],
   "source": [
    "file_two_df['State'].replace(us_state_abbrev, inplace = True)\n",
    "#file_two_df.head()"
   ]
  },
  {
   "cell_type": "code",
   "execution_count": 16,
   "metadata": {},
   "outputs": [
    {
     "data": {
      "text/html": [
       "<div>\n",
       "<style>\n",
       "    .dataframe thead tr:only-child th {\n",
       "        text-align: right;\n",
       "    }\n",
       "\n",
       "    .dataframe thead th {\n",
       "        text-align: left;\n",
       "    }\n",
       "\n",
       "    .dataframe tbody tr th {\n",
       "        vertical-align: top;\n",
       "    }\n",
       "</style>\n",
       "<table border=\"1\" class=\"dataframe\">\n",
       "  <thead>\n",
       "    <tr style=\"text-align: right;\">\n",
       "      <th></th>\n",
       "      <th>Emp ID</th>\n",
       "      <th>First Name</th>\n",
       "      <th>Last Name</th>\n",
       "      <th>DOB</th>\n",
       "      <th>Last part of SSN</th>\n",
       "      <th>State</th>\n",
       "    </tr>\n",
       "  </thead>\n",
       "  <tbody>\n",
       "    <tr>\n",
       "      <th>0</th>\n",
       "      <td>214</td>\n",
       "      <td>Sarah</td>\n",
       "      <td>Simpson</td>\n",
       "      <td>1985-12-04</td>\n",
       "      <td>***-**-8166</td>\n",
       "      <td>FL</td>\n",
       "    </tr>\n",
       "    <tr>\n",
       "      <th>1</th>\n",
       "      <td>15</td>\n",
       "      <td>Samantha</td>\n",
       "      <td>Lara</td>\n",
       "      <td>1993-09-08</td>\n",
       "      <td>***-**-7526</td>\n",
       "      <td>CO</td>\n",
       "    </tr>\n",
       "    <tr>\n",
       "      <th>2</th>\n",
       "      <td>411</td>\n",
       "      <td>Stacy</td>\n",
       "      <td>Charles</td>\n",
       "      <td>1957-12-20</td>\n",
       "      <td>***-**-8526</td>\n",
       "      <td>PA</td>\n",
       "    </tr>\n",
       "    <tr>\n",
       "      <th>3</th>\n",
       "      <td>166</td>\n",
       "      <td>Michelle</td>\n",
       "      <td>Roy</td>\n",
       "      <td>1978-07-29</td>\n",
       "      <td>***-**-3944</td>\n",
       "      <td>MI</td>\n",
       "    </tr>\n",
       "    <tr>\n",
       "      <th>4</th>\n",
       "      <td>39</td>\n",
       "      <td>Joseph</td>\n",
       "      <td>Rogers</td>\n",
       "      <td>1985-03-28</td>\n",
       "      <td>***-**-3515</td>\n",
       "      <td>MN</td>\n",
       "    </tr>\n",
       "  </tbody>\n",
       "</table>\n",
       "</div>"
      ],
      "text/plain": [
       "  Emp ID First Name Last Name         DOB Last part of SSN State\n",
       "0    214      Sarah   Simpson  1985-12-04      ***-**-8166    FL\n",
       "1     15   Samantha      Lara  1993-09-08      ***-**-7526    CO\n",
       "2    411      Stacy   Charles  1957-12-20      ***-**-8526    PA\n",
       "3    166   Michelle       Roy  1978-07-29      ***-**-3944    MI\n",
       "4     39     Joseph    Rogers  1985-03-28      ***-**-3515    MN"
      ]
     },
     "execution_count": 16,
     "metadata": {},
     "output_type": "execute_result"
    }
   ],
   "source": [
    "organized_one = file_one_df[['Emp ID', 'First Name', 'Last Name', 'DOB', 'Last part of SSN', 'State']]\n",
    "organized_one.head()"
   ]
  },
  {
   "cell_type": "code",
   "execution_count": 17,
   "metadata": {},
   "outputs": [
    {
     "data": {
      "text/html": [
       "<div>\n",
       "<style>\n",
       "    .dataframe thead tr:only-child th {\n",
       "        text-align: right;\n",
       "    }\n",
       "\n",
       "    .dataframe thead th {\n",
       "        text-align: left;\n",
       "    }\n",
       "\n",
       "    .dataframe tbody tr th {\n",
       "        vertical-align: top;\n",
       "    }\n",
       "</style>\n",
       "<table border=\"1\" class=\"dataframe\">\n",
       "  <thead>\n",
       "    <tr style=\"text-align: right;\">\n",
       "      <th></th>\n",
       "      <th>Emp ID</th>\n",
       "      <th>First Name</th>\n",
       "      <th>Last Name</th>\n",
       "      <th>DOB</th>\n",
       "      <th>Last part of SSN</th>\n",
       "      <th>State</th>\n",
       "    </tr>\n",
       "  </thead>\n",
       "  <tbody>\n",
       "    <tr>\n",
       "      <th>0</th>\n",
       "      <td>1128</td>\n",
       "      <td>Jessica</td>\n",
       "      <td>Sheppard</td>\n",
       "      <td>1970-05-24</td>\n",
       "      <td>***-**-8166</td>\n",
       "      <td>RI</td>\n",
       "    </tr>\n",
       "    <tr>\n",
       "      <th>1</th>\n",
       "      <td>1988</td>\n",
       "      <td>Sarah</td>\n",
       "      <td>Rodriguez</td>\n",
       "      <td>1986-07-18</td>\n",
       "      <td>***-**-7526</td>\n",
       "      <td>WY</td>\n",
       "    </tr>\n",
       "    <tr>\n",
       "      <th>2</th>\n",
       "      <td>573</td>\n",
       "      <td>Steven</td>\n",
       "      <td>Parker</td>\n",
       "      <td>1981-09-20</td>\n",
       "      <td>***-**-8526</td>\n",
       "      <td>NE</td>\n",
       "    </tr>\n",
       "    <tr>\n",
       "      <th>3</th>\n",
       "      <td>107</td>\n",
       "      <td>Patricia</td>\n",
       "      <td>Bennett</td>\n",
       "      <td>1984-06-08</td>\n",
       "      <td>***-**-3944</td>\n",
       "      <td>LA</td>\n",
       "    </tr>\n",
       "    <tr>\n",
       "      <th>4</th>\n",
       "      <td>2040</td>\n",
       "      <td>Lisa</td>\n",
       "      <td>Mathis</td>\n",
       "      <td>1957-01-27</td>\n",
       "      <td>***-**-3515</td>\n",
       "      <td>WI</td>\n",
       "    </tr>\n",
       "  </tbody>\n",
       "</table>\n",
       "</div>"
      ],
      "text/plain": [
       "   Emp ID First Name  Last Name         DOB Last part of SSN State\n",
       "0    1128    Jessica   Sheppard  1970-05-24      ***-**-8166    RI\n",
       "1    1988      Sarah  Rodriguez  1986-07-18      ***-**-7526    WY\n",
       "2     573     Steven     Parker  1981-09-20      ***-**-8526    NE\n",
       "3     107   Patricia    Bennett  1984-06-08      ***-**-3944    LA\n",
       "4    2040       Lisa     Mathis  1957-01-27      ***-**-3515    WI"
      ]
     },
     "execution_count": 17,
     "metadata": {},
     "output_type": "execute_result"
    }
   ],
   "source": [
    "organized_two = file_two_df[['Emp ID', 'First Name', 'Last Name', 'DOB', 'Last part of SSN', 'State']]\n",
    "organized_two.head()"
   ]
  },
  {
   "cell_type": "code",
   "execution_count": null,
   "metadata": {
    "collapsed": true
   },
   "outputs": [],
   "source": []
  }
 ],
 "metadata": {
  "kernelspec": {
   "display_name": "Python 3",
   "language": "python",
   "name": "python3"
  },
  "language_info": {
   "codemirror_mode": {
    "name": "ipython",
    "version": 3
   },
   "file_extension": ".py",
   "mimetype": "text/x-python",
   "name": "python",
   "nbconvert_exporter": "python",
   "pygments_lexer": "ipython3",
   "version": "3.6.2"
  }
 },
 "nbformat": 4,
 "nbformat_minor": 2
}
